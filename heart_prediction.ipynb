{
 "cells": [
  {
   "cell_type": "code",
   "execution_count": 16,
   "id": "0b63f659",
   "metadata": {},
   "outputs": [],
   "source": [
    "import pandas as pd\n",
    "import torch\n",
    "import torch.nn as nn\n",
    "import torch.optim as optim\n",
    "from torch.utils.data import Dataset, DataLoader\n",
    "from sklearn.model_selection import train_test_split\n",
    "from sklearn.preprocessing import StandardScaler, OneHotEncoder\n",
    "from sklearn.compose import ColumnTransformer\n",
    "import matplotlib.pyplot as plt"
   ]
  },
  {
   "cell_type": "code",
   "execution_count": 17,
   "id": "271c6b2c",
   "metadata": {},
   "outputs": [],
   "source": [
    "# 1. Load and preprocess data\n",
    "df = pd.read_csv('data/heart.csv') ",
    "X = df.drop('HeartDisease', axis=1)\n",
    "y = df['HeartDisease']\n",
    "\n",
    "numeric_features = ['Age', 'RestingBP', 'Cholesterol', 'MaxHR', 'Oldpeak']\n",
    "categorical_features = ['Sex', 'ChestPainType', 'FastingBS', 'RestingECG', 'ExerciseAngina', 'ST_Slope']\n",
    "\n",
    "preprocessor = ColumnTransformer(\n",
    "    transformers=[\n",
    "        ('num', StandardScaler(), numeric_features),\n",
    "        ('cat', OneHotEncoder(), categorical_features)\n",
    "    ])\n",
    "\n",
    "X_processed = preprocessor.fit_transform(X)\n",
    "X_train, X_test, y_train, y_test = train_test_split(X_processed, y, test_size=0.2, random_state=42)"
   ]
  },
  {
   "cell_type": "code",
   "execution_count": 18,
   "id": "d757ecca",
   "metadata": {},
   "outputs": [],
   "source": [
    "# 2. Convert to PyTorch tensors\n",
    "X_train_tensor = torch.FloatTensor(X_train)\n",
    "y_train_tensor = torch.LongTensor(y_train.values)\n",
    "X_test_tensor = torch.FloatTensor(X_test)\n",
    "y_test_tensor = torch.LongTensor(y_test.values)\n",
    "\n",
    "class HeartDiseaseDataset(Dataset):\n",
    "    def __init__(self, X, y):\n",
    "        self.X = X\n",
    "        self.y = y\n",
    "    \n",
    "    def __len__(self):\n",
    "        return len(self.X)\n",
    "    \n",
    "    def __getitem__(self, idx):\n",
    "        return self.X[idx], self.y[idx]\n",
    "\n",
    "train_dataset = HeartDiseaseDataset(X_train_tensor, y_train_tensor)\n",
    "test_dataset = HeartDiseaseDataset(X_test_tensor, y_test_tensor)\n",
    "\n",
    "batch_size = 32\n",
    "train_loader = DataLoader(train_dataset, batch_size=batch_size, shuffle=True)\n",
    "test_loader = DataLoader(test_dataset, batch_size=batch_size)"
   ]
  },
  {
   "cell_type": "code",
   "execution_count": 19,
   "id": "6e6ae378",
   "metadata": {},
   "outputs": [],
   "source": [
    "# 3. Define model\n",
    "class SimpleNN(nn.Module):\n",
    "    def __init__(self, input_size):\n",
    "        super(SimpleNN, self).__init__()\n",
    "        self.layer1 = nn.Linear(input_size, 64)\n",
    "        self.layer2 = nn.Linear(64, 32)\n",
    "        self.output = nn.Linear(32, 2)\n",
    "        self.relu = nn.ReLU()\n",
    "    \n",
    "    def forward(self, x):\n",
    "        x = self.relu(self.layer1(x))\n",
    "        x = self.relu(self.layer2(x))\n",
    "        x = self.output(x)\n",
    "        return x\n",
    "\n",
    "model = SimpleNN(X_processed.shape[1])\n",
    "criterion = nn.CrossEntropyLoss()\n",
    "optimizer = optim.Adam(model.parameters(), lr=0.001)\n"
   ]
  },
  {
   "cell_type": "code",
   "execution_count": 20,
   "id": "db01f2d6",
   "metadata": {},
   "outputs": [
    {
     "name": "stdout",
     "output_type": "stream",
     "text": [
      "Epoch 1/50, Loss: 0.6580\n",
      "Epoch 2/50, Loss: 0.5444\n",
      "Epoch 3/50, Loss: 0.4165\n",
      "Epoch 4/50, Loss: 0.3562\n",
      "Epoch 5/50, Loss: 0.3325\n",
      "Epoch 6/50, Loss: 0.3157\n",
      "Epoch 7/50, Loss: 0.3079\n",
      "Epoch 8/50, Loss: 0.3038\n",
      "Epoch 9/50, Loss: 0.2984\n",
      "Epoch 10/50, Loss: 0.2932\n",
      "Epoch 11/50, Loss: 0.2880\n",
      "Epoch 12/50, Loss: 0.2859\n",
      "Epoch 13/50, Loss: 0.2798\n",
      "Epoch 14/50, Loss: 0.2734\n",
      "Epoch 15/50, Loss: 0.2724\n",
      "Epoch 16/50, Loss: 0.2695\n",
      "Epoch 17/50, Loss: 0.2648\n",
      "Epoch 18/50, Loss: 0.2598\n",
      "Epoch 19/50, Loss: 0.2550\n",
      "Epoch 20/50, Loss: 0.2532\n",
      "Epoch 21/50, Loss: 0.2476\n",
      "Epoch 22/50, Loss: 0.2451\n",
      "Epoch 23/50, Loss: 0.2399\n",
      "Epoch 24/50, Loss: 0.2379\n",
      "Epoch 25/50, Loss: 0.2321\n",
      "Epoch 26/50, Loss: 0.2308\n",
      "Epoch 27/50, Loss: 0.2269\n",
      "Epoch 28/50, Loss: 0.2208\n",
      "Epoch 29/50, Loss: 0.2213\n",
      "Epoch 30/50, Loss: 0.2153\n",
      "Epoch 31/50, Loss: 0.2135\n",
      "Epoch 32/50, Loss: 0.2097\n",
      "Epoch 33/50, Loss: 0.2059\n",
      "Epoch 34/50, Loss: 0.2019\n",
      "Epoch 35/50, Loss: 0.2018\n",
      "Epoch 36/50, Loss: 0.1964\n",
      "Epoch 37/50, Loss: 0.1917\n",
      "Epoch 38/50, Loss: 0.1895\n",
      "Epoch 39/50, Loss: 0.1957\n",
      "Epoch 40/50, Loss: 0.1854\n",
      "Epoch 41/50, Loss: 0.1781\n",
      "Epoch 42/50, Loss: 0.1758\n",
      "Epoch 43/50, Loss: 0.1801\n",
      "Epoch 44/50, Loss: 0.1699\n",
      "Epoch 45/50, Loss: 0.1672\n",
      "Epoch 46/50, Loss: 0.1635\n",
      "Epoch 47/50, Loss: 0.1597\n",
      "Epoch 48/50, Loss: 0.1583\n",
      "Epoch 49/50, Loss: 0.1545\n",
      "Epoch 50/50, Loss: 0.1523\n"
     ]
    }
   ],
   "source": [
    "# 4. Train model with loss tracking\n",
    "epochs = 50\n",
    "train_losses = []  # Initialize list to store losses\n",
    "\n",
    "for epoch in range(epochs):\n",
    "    model.train()\n",
    "    running_loss = 0.0\n",
    "    \n",
    "    for inputs, labels in train_loader:\n",
    "        optimizer.zero_grad()\n",
    "        outputs = model(inputs)\n",
    "        loss = criterion(outputs, labels)\n",
    "        loss.backward()\n",
    "        optimizer.step()\n",
    "        running_loss += loss.item()\n",
    "    \n",
    "    epoch_loss = running_loss / len(train_loader)\n",
    "    train_losses.append(epoch_loss)  # Store loss for this epoch\n",
    "    print(f'Epoch {epoch+1}/{epochs}, Loss: {epoch_loss:.4f}')"
   ]
  },
  {
   "cell_type": "code",
   "execution_count": 21,
   "id": "09d850fd",
   "metadata": {},
   "outputs": [
    {
     "name": "stdout",
     "output_type": "stream",
     "text": [
      "Test Accuracy: 90.22%\n"
     ]
    }
   ],
   "source": [
    "# 5. Evaluate model\n",
    "model.eval()\n",
    "correct = 0\n",
    "total = 0\n",
    "with torch.no_grad():\n",
    "    for inputs, labels in test_loader:\n",
    "        outputs = model(inputs)\n",
    "        _, predicted = torch.max(outputs.data, 1)\n",
    "        total += labels.size(0)\n",
    "        correct += (predicted == labels).sum().item()\n",
    "\n",
    "accuracy = 100 * correct / total\n",
    "print(f'Test Accuracy: {accuracy:.2f}%')"
   ]
  },
  {
   "cell_type": "code",
   "execution_count": null,
   "id": "32adb547",
   "metadata": {},
   "outputs": [],
   "source": []
  },
  {
   "cell_type": "code",
   "execution_count": null,
   "id": "5ba69294",
   "metadata": {},
   "outputs": [
    {
     "data": {
      "image/png": "[encoded data removed]",
      "text/plain": [
       "<Figure size 800x500 with 1 Axes>"
      ]
     },
     "metadata": {},
     "output_type": "display_data"
    }
   ],
   "source": [
    "# 6. Plot training loss::\n",
    "plt.figure(figsize=(8, 5))\n",
    "plt.plot(train_losses)\n",
    "plt.title(\"Training Loss Over Epochs\")\n",
    "plt.xlabel(\"Epoch\")\n",
    "plt.ylabel(\"Loss\")\n",
    "plt.grid(True)\n",
    "plt.show()"
   ]
  },
  {
   "cell_type": "code",
   "execution_count": null,
   "id": "dff82be0",
   "metadata": {},
   "outputs": [],
   "source": []
  }
 ],
 "metadata": {
  "kernelspec": {
   "display_name": "venv",
   "language": "python",
   "name": "python3"
  },
  "language_info": {
   "codemirror_mode": {
    "name": "ipython",
    "version": 3
   },
   "file_extension": ".py",
   "mimetype": "text/x-python",
   "name": "python",
   "nbconvert_exporter": "python",
   "pygments_lexer": "ipython3",
   "version": "3.13.5"
  }
 },
 "nbformat": 4,
 "nbformat_minor": 5
}
